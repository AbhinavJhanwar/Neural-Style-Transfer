{
 "cells": [
  {
   "cell_type": "markdown",
   "metadata": {
    "colab_type": "text",
    "id": "jo5PziEC4hWs"
   },
   "source": [
    "# Neural Style Transfer with tf.keras"
   ]
  },
  {
   "cell_type": "markdown",
   "metadata": {
    "colab_type": "text",
    "id": "eqxUicSPUOP6"
   },
   "source": [
    "### Import and configure modules"
   ]
  },
  {
   "cell_type": "code",
   "execution_count": null,
   "metadata": {
    "colab": {},
    "colab_type": "code",
    "id": "sc1OLbOWhPCO"
   },
   "outputs": [],
   "source": [
    "import matplotlib.pyplot as plt\n",
    "import matplotlib as mpl\n",
    "mpl.rcParams['figure.figsize'] = (10,10)\n",
    "mpl.rcParams['axes.grid'] = False\n",
    "\n",
    "import numpy as np\n",
    "from PIL import Image\n",
    "import time\n",
    "import functools\n",
    "import IPython.display"
   ]
  },
  {
   "cell_type": "code",
   "execution_count": null,
   "metadata": {
    "colab": {},
    "colab_type": "code",
    "id": "RYEjlrYk3s6w"
   },
   "outputs": [],
   "source": [
    "#%tensorflow_version 1.x\n",
    "import tensorflow as tf\n",
    "\n",
    "from tensorflow.python.keras.preprocessing import image as kp_image\n",
    "from tensorflow.python.keras import models \n",
    "from tensorflow.python.keras import losses\n",
    "from tensorflow.python.keras import layers\n",
    "from tensorflow.python.keras import backend as K"
   ]
  },
  {
   "cell_type": "markdown",
   "metadata": {
    "colab_type": "text",
    "id": "L7sjDODq67HQ"
   },
   "source": [
    "We’ll begin by enabling [eager execution](https://www.tensorflow.org/guide/eager). Eager execution allows us to work through this technique in the clearest and most readable way. "
   ]
  },
  {
   "cell_type": "code",
   "execution_count": null,
   "metadata": {
    "colab": {},
    "colab_type": "code",
    "id": "sfjsSAtNrqQx"
   },
   "outputs": [],
   "source": [
    "tf.enable_eager_execution()\n",
    "print(\"Eager execution: {}\".format(tf.executing_eagerly()))"
   ]
  },
  {
   "cell_type": "code",
   "execution_count": null,
   "metadata": {
    "colab": {},
    "colab_type": "code",
    "id": "IOiGrIV1iERH"
   },
   "outputs": [],
   "source": [
    "# Set up some global values here\n",
    "content_path = 'Green_Sea_Turtle.jpg'\n",
    "style_path = 'style.jpg'"
   ]
  },
  {
   "cell_type": "markdown",
   "metadata": {
    "colab_type": "text",
    "id": "xE4Yt8nArTeR"
   },
   "source": [
    "## Visualize the input"
   ]
  },
  {
   "cell_type": "code",
   "execution_count": null,
   "metadata": {
    "colab": {},
    "colab_type": "code",
    "id": "3TLljcwv5qZs"
   },
   "outputs": [],
   "source": [
    "def load_img(path_to_img):\n",
    "    max_dim = 512\n",
    "    img = Image.open(path_to_img)\n",
    "    long = max(img.size)\n",
    "    scale = max_dim/long\n",
    "    img = img.resize((round(img.size[0]*scale), round(img.size[1]*scale)), Image.ANTIALIAS)\n",
    "\n",
    "    img = kp_image.img_to_array(img)\n",
    "\n",
    "    # We need to broadcast the image array such that it has a batch dimension \n",
    "    img = np.expand_dims(img, axis=0)\n",
    "    return img"
   ]
  },
  {
   "cell_type": "code",
   "execution_count": null,
   "metadata": {
    "colab": {},
    "colab_type": "code",
    "id": "vupl0CI18aAG"
   },
   "outputs": [],
   "source": [
    "def imshow(img, title=None):\n",
    "    # Remove the batch dimension\n",
    "    out = np.squeeze(img, axis=0)\n",
    "    # Normalize for display \n",
    "    out = out.astype('uint8')\n",
    "    plt.imshow(out)\n",
    "    if title is not None:\n",
    "        plt.title(title)\n",
    "    plt.imshow(out)"
   ]
  },
  {
   "cell_type": "markdown",
   "metadata": {
    "colab_type": "text",
    "id": "2yAlRzJZrWM3"
   },
   "source": [
    "These are input content and style images. We hope to \"create\" an image with the content of our content image, but with the style of the style image. "
   ]
  },
  {
   "cell_type": "code",
   "execution_count": null,
   "metadata": {
    "colab": {},
    "colab_type": "code",
    "id": "_UWQmeEaiKkP"
   },
   "outputs": [],
   "source": [
    "plt.figure(figsize=(10,10))\n",
    "\n",
    "content = load_img(content_path).astype('uint8')\n",
    "style = load_img(style_path).astype('uint8')\n",
    "\n",
    "plt.subplot(1, 2, 1)\n",
    "imshow(content, 'Content Image')\n",
    "\n",
    "plt.subplot(1, 2, 2)\n",
    "imshow(style, 'Style Image')\n",
    "plt.show()"
   ]
  },
  {
   "cell_type": "markdown",
   "metadata": {
    "colab_type": "text",
    "id": "7qMVNvEsK-_D"
   },
   "source": [
    "## Prepare the data\n",
    "Let's create methods that will allow us to load and preprocess our images easily. We perform the same preprocessing process as are expected according to the VGG training process. VGG networks are trained on image with each channel normalized by `mean = [103.939, 116.779, 123.68]`and with channels BGR."
   ]
  },
  {
   "cell_type": "code",
   "execution_count": null,
   "metadata": {
    "colab": {},
    "colab_type": "code",
    "id": "hGwmTwJNmv2a"
   },
   "outputs": [],
   "source": [
    "def load_and_process_img(path_to_img):\n",
    "    img = load_img(path_to_img)\n",
    "    img = tf.keras.applications.vgg19.preprocess_input(img)\n",
    "    return img"
   ]
  },
  {
   "cell_type": "markdown",
   "metadata": {
    "colab_type": "text",
    "id": "xCgooqs6tAka"
   },
   "source": [
    "In order to view the outputs of our optimization, we are required to perform the inverse preprocessing step. Furthermore, since our optimized image may take its values anywhere between $- \\infty$ and $\\infty$, we must clip to maintain our values from within the 0-255 range.   "
   ]
  },
  {
   "cell_type": "code",
   "execution_count": null,
   "metadata": {
    "colab": {},
    "colab_type": "code",
    "id": "mjzlKRQRs_y2"
   },
   "outputs": [],
   "source": [
    "def deprocess_img(processed_img):\n",
    "    x = processed_img.copy()\n",
    "    if len(x.shape) == 4:\n",
    "        x = np.squeeze(x, 0)\n",
    "    assert len(x.shape) == 3, (\"Input to deprocess image must be an image of \"\n",
    "                             \"dimension [1, height, width, channel] or [height, width, channel]\")\n",
    "    if len(x.shape) != 3:\n",
    "        raise ValueError(\"Invalid input to deprocessing image\")\n",
    "\n",
    "    # perform the inverse of the preprocessing step\n",
    "    x[:, :, 0] += 103.939\n",
    "    x[:, :, 1] += 116.779\n",
    "    x[:, :, 2] += 123.68\n",
    "    x = x[:, :, ::-1]\n",
    "\n",
    "    x = np.clip(x, 0, 255).astype('uint8')\n",
    "    return x"
   ]
  },
  {
   "cell_type": "markdown",
   "metadata": {
    "colab_type": "text",
    "id": "GEwZ7FlwrjoZ"
   },
   "source": [
    "## Feature Extraction Model\n",
    "In order to get both the content and style representations of our image, we will look at some intermediate layers within our model. These intermediate layers are necessary to define the representation of content and style from our images.\n"
   ]
  },
  {
   "cell_type": "code",
   "execution_count": null,
   "metadata": {
    "colab": {},
    "colab_type": "code",
    "id": "N4-8eUp_Kc-j"
   },
   "outputs": [],
   "source": [
    "# List of layers to use for the style loss.\n",
    "style_layers = [\n",
    "    \"block1_conv1\",\n",
    "    \"block2_conv1\",\n",
    "    \"block3_conv1\",\n",
    "    \"block4_conv1\",\n",
    "    \"block5_conv1\",\n",
    "]\n",
    "# The layer to use for the content loss.\n",
    "content_layers = [\"block5_conv2\"]\n",
    "\n",
    "num_content_layers = len(content_layers)\n",
    "num_style_layers = len(style_layers)\n",
    "\n",
    "\n",
    "\"\"\" Create our model with access to intermediate layers. \n",
    "\n",
    "This will load the VGG19 model and access the intermediate layers. \n",
    "These layers will then be used to create a new model that will take input image\n",
    "and return the outputs from these intermediate layers from the VGG model. \n",
    "\n",
    "final model is a keras model that takes image inputs and outputs the style and \n",
    "  content intermediate layers. \n",
    "\"\"\"\n",
    "# Load our model. We load pretrained VGG, trained on imagenet data\n",
    "vgg = tf.keras.applications.vgg19.VGG19(include_top=False, weights='imagenet')\n",
    "vgg.trainable = False\n",
    "# Get output layers corresponding to style and content layers \n",
    "style_outputs = [vgg.get_layer(name).output for name in style_layers]\n",
    "content_outputs = [vgg.get_layer(name).output for name in content_layers]\n",
    "model_outputs = style_outputs + content_outputs\n",
    "# Build model \n",
    "model = models.Model(vgg.input, model_outputs)\n",
    "print(model.summary())"
   ]
  },
  {
   "cell_type": "markdown",
   "metadata": {
    "colab_type": "text",
    "id": "vJdYvJTZ4bdS"
   },
   "source": [
    "## Compute the various losses\n",
    "First, we need to define 4 utility functions:\n",
    "- `gram_matrix` (used to compute the style loss)\n",
    "- The `style_loss` function, which keeps the generated image close to the local textures\n",
    "of the style reference image\n",
    "- The `content_loss` function, which keeps the high-level representation of the\n",
    "generated image close to that of the base image\n",
    "- The `total_variation_loss` function, a regularization loss which keeps the generated\n",
    "image locally-coherent\n"
   ]
  },
  {
   "cell_type": "code",
   "execution_count": null,
   "metadata": {
    "colab": {},
    "colab_type": "code",
    "id": "N7MOqwKLLke8"
   },
   "outputs": [],
   "source": [
    "def get_content_loss(base_content, target):\n",
    "    return tf.reduce_mean(tf.square(base_content - target))\n",
    "  \n",
    "def gram_matrix(input_tensor):\n",
    "    # We make the image channels first \n",
    "    channels = int(input_tensor.shape[-1])\n",
    "    a = tf.reshape(input_tensor, [-1, channels])\n",
    "    n = tf.shape(a)[0]\n",
    "    gram = tf.matmul(a, a, transpose_a=True)\n",
    "    return gram / tf.cast(n, tf.float32)\n",
    "\n",
    "def get_style_loss(base_style, gram_target):\n",
    "    \"\"\"Expects two images of dimension h, w, c\"\"\"\n",
    "    # height, width, num filters of each layer\n",
    "    # We scale the loss at a given layer by the size of the feature map and the number of filters\n",
    "    height, width, channels = base_style.get_shape().as_list()\n",
    "    gram_style = gram_matrix(base_style)\n",
    "\n",
    "    return tf.reduce_mean(tf.square(gram_style - gram_target))# / (4. * (channels ** 2) * (width * height) ** 2)"
   ]
  },
  {
   "cell_type": "markdown",
   "metadata": {
    "colab_type": "text",
    "id": "pXIUX6czZABh"
   },
   "source": [
    "## Apply style transfer to our images\n"
   ]
  },
  {
   "cell_type": "markdown",
   "metadata": {
    "colab_type": "text",
    "id": "3DopXw7-lFHa"
   },
   "source": [
    "### Computing the loss and gradients"
   ]
  },
  {
   "cell_type": "code",
   "execution_count": null,
   "metadata": {
    "colab": {},
    "colab_type": "code",
    "id": "oVDhSo8iJunf"
   },
   "outputs": [],
   "source": [
    "def compute_loss():\n",
    "    \"\"\"This function will compute the loss total loss.\n",
    "\n",
    "    Arguments:\n",
    "    model: The model that will give us access to the intermediate layers\n",
    "    loss_weights: The weights of each contribution of each loss function. \n",
    "      (style weight, content weight, and total variation weight)\n",
    "    init_image: Our initial base image. This image is what we are updating with \n",
    "      our optimization process. We apply the gradients wrt the loss we are \n",
    "      calculating to this image.\n",
    "    gram_style_features: Precomputed gram matrices corresponding to the \n",
    "      defined style layers of interest.\n",
    "    content_features: Precomputed outputs from defined content layers of \n",
    "      interest.\n",
    "\n",
    "    Returns:\n",
    "    returns the total loss, style loss, content loss, and total variational loss\n",
    "    \"\"\"\n",
    "\n",
    "    # Feed our init image through our model. This will give us the content and \n",
    "    # style representations at our desired layers. Since we're using eager\n",
    "    # our model is callable just like any other function!\n",
    "    model_outputs = model(init_image)\n",
    "\n",
    "    style_output_features = model_outputs[:num_style_layers]\n",
    "    content_output_features = model_outputs[num_style_layers:]\n",
    "  \n",
    "    style_score = 0\n",
    "    content_score = 0\n",
    "\n",
    "    # Accumulate style losses from all layers\n",
    "    # Here, we equally weight each contribution of each loss layer\n",
    "    weight_per_style_layer = 1.0 / float(num_style_layers)\n",
    "    for target_style, comb_style in zip(gram_style_features, style_output_features):\n",
    "        style_score += weight_per_style_layer * get_style_loss(comb_style[0], target_style)\n",
    "    \n",
    "    # Accumulate content losses from all layers \n",
    "    weight_per_content_layer = 1.0 / float(num_content_layers)\n",
    "    for target_content, comb_content in zip(content_features, content_output_features):\n",
    "        content_score += weight_per_content_layer* get_content_loss(comb_content[0], target_content)\n",
    "\n",
    "    style_score *= style_weight\n",
    "    content_score *= content_weight\n",
    "\n",
    "    # Get total loss\n",
    "    loss = style_score + content_score \n",
    "    return loss, style_score, content_score"
   ]
  },
  {
   "cell_type": "code",
   "execution_count": null,
   "metadata": {
    "colab": {},
    "colab_type": "code",
    "id": "fwzYeOqOUH9_"
   },
   "outputs": [],
   "source": [
    "def compute_grads():\n",
    "    with tf.GradientTape() as tape: \n",
    "        all_loss = compute_loss()\n",
    "    # Compute gradients wrt input image\n",
    "    total_loss = all_loss[0]\n",
    "    return tape.gradient(total_loss, init_image), all_loss"
   ]
  },
  {
   "cell_type": "markdown",
   "metadata": {
    "colab_type": "text",
    "id": "T9yKu2PLlBIE"
   },
   "source": [
    "## The training loop\n",
    "Repeatedly run vanilla gradient descent steps to minimize the loss, and save the\n",
    "resulting image every 100 iterations."
   ]
  },
  {
   "cell_type": "code",
   "execution_count": null,
   "metadata": {
    "colab": {},
    "colab_type": "code",
    "id": "pj_enNo6tACQ"
   },
   "outputs": [],
   "source": [
    "num_iterations=4000\n",
    "content_weight=1e3 \n",
    "style_weight=1e-2\n",
    "\n",
    "# We don't need to (or want to) train any layers of our model, so we set their\n",
    "# trainable to false. \n",
    "for layer in model.layers:\n",
    "    layer.trainable = False\n",
    "\n",
    "# Load our images in \n",
    "content_image = load_and_process_img(content_path)\n",
    "style_image = load_and_process_img(style_path)\n",
    "\n",
    "# batch compute content and style features\n",
    "style_outputs = model(style_image)\n",
    "content_outputs = model(content_image)\n",
    "\n",
    "# Get the style and content feature representations from our model  \n",
    "style_features = [style_layer[0] for style_layer in style_outputs[:num_style_layers]]\n",
    "content_features = [content_layer[0] for content_layer in content_outputs[num_style_layers:]]  \n",
    "gram_style_features = [gram_matrix(style_feature) for style_feature in style_features]\n",
    "\n",
    "# Set initial image\n",
    "init_image = load_and_process_img(content_path)\n",
    "init_image = tf.Variable(init_image, dtype=tf.float32)\n",
    "# Create our optimizer\n",
    "opt = tf.train.AdamOptimizer(learning_rate=5, beta1=0.99, epsilon=1e-1)\n",
    "\n",
    "norm_means = np.array([103.939, 116.779, 123.68])\n",
    "min_vals = -norm_means\n",
    "max_vals = 255 - norm_means   \n",
    "\n",
    "\n",
    "imgs = []\n",
    "for i in range(num_iterations+1):\n",
    "    grads, all_loss = compute_grads()\n",
    "    loss, style_score, content_score = all_loss\n",
    "    opt.apply_gradients([(grads, init_image)])\n",
    "    clipped = tf.clip_by_value(init_image, min_vals, max_vals)\n",
    "    init_image.assign(clipped)\n",
    "\n",
    "    if i % 400 == 0:\n",
    "        plt.figure(figsize=(10, 10))\n",
    "        print('Iteration: {}'.format(i))        \n",
    "        print('Total loss: {:.4e}, ' \n",
    "              'style loss: {:.4e}, '\n",
    "              'content loss: {:.4e}'.format(loss, style_score, content_score))\n",
    "        img = deprocess_img(init_image.numpy())\n",
    "        imgs.append(img)\n",
    "        plt.imshow(img)\n",
    "        plt.show()\n",
    "\n",
    "# save image\n",
    "fname = content_path.split('.jpg')[0] + '_' + style_path\n",
    "tf.keras.preprocessing.image.save_img(fname, img)\n"
   ]
  }
 ],
 "metadata": {
  "accelerator": "GPU",
  "colab": {
   "collapsed_sections": [],
   "name": "Neural Style Transfer",
   "private_outputs": true,
   "provenance": [],
   "toc_visible": true
  },
  "kernelspec": {
   "display_name": "Python 3",
   "language": "python",
   "name": "python3"
  },
  "language_info": {
   "codemirror_mode": {
    "name": "ipython",
    "version": 3
   },
   "file_extension": ".py",
   "mimetype": "text/x-python",
   "name": "python",
   "nbconvert_exporter": "python",
   "pygments_lexer": "ipython3",
   "version": "3.6.10"
  }
 },
 "nbformat": 4,
 "nbformat_minor": 1
}
